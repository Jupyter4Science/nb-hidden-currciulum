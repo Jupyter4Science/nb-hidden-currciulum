{
 "cells": [
  {
   "cell_type": "markdown",
   "id": "01217ca6-0606-4b2a-80c6-1b9b76836c01",
   "metadata": {},
   "source": [
    "# Nelle’s Pipeline: A Typical Problem\n",
    "\n",
    "Nelle Nemo, a marine biologist, has just returned from a six-month survey of the North Pacific Gyre, where she has been sampling gelatinous marine life in the Great Pacific Garbage Patch. She has 1520 samples that she’s run through an assay machine to measure the relative abundance of 300 proteins. She needs to run these 1520 files through an imaginary program called goostats.sh. In addition to this huge task, she has to write up results by the end of the month, so her paper can appear in a special issue of Aquatic Goo Letters.\n",
    "\n",
    "If Nelle chooses to run 'goostats.sh' by hand using a GUI, she’ll have to select and open a file 1520 times. If goostats.sh takes 30 seconds to run each file, the whole process will take more than 12 hours of Nelle’s attention. With the shell, Nelle can instead assign her computer this mundane task while she focuses her attention on writing her paper.\n",
    "\n",
    "The next few lessons will explore the ways Nelle can achieve this. More specifically, the lessons explain how she can use a command shell to run the goostats.sh program, using loops to automate the repetitive steps of entering file names, so that her computer can work while she writes her paper.\n",
    "\n",
    "As a bonus, once she has put a processing pipeline together, she will be able to use it again whenever she collects more data.\n",
    "\n",
    "In order to achieve her task, Nelle needs to know how to:\n",
    "\n",
    "- navigate to a file/directory\n",
    "- create a file/directory\n",
    "- check the length of a file\n",
    "- chain commands together\n",
    "- retrieve a set of files\n",
    "- iterate over files\n",
    "- run a shell script containing her pipeline"
   ]
  },
  {
   "cell_type": "code",
   "execution_count": 1,
   "id": "966ad602-0f05-4305-bdd5-ccbe11fede51",
   "metadata": {},
   "outputs": [
    {
     "data": {
      "text/plain": [
       "'/Users/_namitashah_/Desktop/gt/nb-hidden-currciulum'"
      ]
     },
     "execution_count": 1,
     "metadata": {},
     "output_type": "execute_result"
    }
   ],
   "source": [
    "pwd"
   ]
  },
  {
   "cell_type": "code",
   "execution_count": null,
   "id": "15b1be54-a50a-409f-a65e-4b2943c8c1e1",
   "metadata": {},
   "outputs": [],
   "source": []
  }
 ],
 "metadata": {
  "kernelspec": {
   "display_name": "Python 3 (ipykernel)",
   "language": "python",
   "name": "python3"
  },
  "language_info": {
   "codemirror_mode": {
    "name": "ipython",
    "version": 3
   },
   "file_extension": ".py",
   "mimetype": "text/x-python",
   "name": "python",
   "nbconvert_exporter": "python",
   "pygments_lexer": "ipython3",
   "version": "3.11.4"
  }
 },
 "nbformat": 4,
 "nbformat_minor": 5
}
