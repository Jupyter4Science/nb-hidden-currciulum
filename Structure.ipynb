{
 "cells": [
  {
   "cell_type": "markdown",
   "id": "de8fae4b-5b19-4aef-ab48-2d1e318b56df",
   "metadata": {},
   "source": [
    "Things we need to cover:\n",
    "\n",
    "- Intro to Basics (nb 1)\n",
    "    - What is a Jupyter Notebook? (page 1)\n",
    "    - Code cell(page 1)\n",
    "        - Executing cells(page 1)\n",
    "    - Markdown (page 1)\n",
    "    - Shortcuts (page 1)\n",
    "        - Saving notebooks\n",
    "\n",
    "- More info (nb 2)\n",
    "    - Notebook vs. notebook vs lab\n",
    "    - What is a kernel?\n",
    "    - Restarting the kernel\n",
    "    - Order of execution\n",
    "\n",
    "\n",
    "- Takeaways Page + Homework for this week (nb 3)\n",
    "    - Common Issues\n",
    "    - Good Practices\n",
    "    - Summary\n",
    "    - HW/Annoucements"
   ]
  },
  {
   "cell_type": "code",
   "execution_count": null,
   "id": "8f219d69-5e1b-425d-99f9-6abc1fb2afc7",
   "metadata": {},
   "outputs": [],
   "source": []
  }
 ],
 "metadata": {
  "kernelspec": {
   "display_name": "Python 3 (ipykernel)",
   "language": "python",
   "name": "python3"
  },
  "language_info": {
   "codemirror_mode": {
    "name": "ipython",
    "version": 3
   },
   "file_extension": ".py",
   "mimetype": "text/x-python",
   "name": "python",
   "nbconvert_exporter": "python",
   "pygments_lexer": "ipython3",
   "version": "3.11.4"
  }
 },
 "nbformat": 4,
 "nbformat_minor": 5
}
