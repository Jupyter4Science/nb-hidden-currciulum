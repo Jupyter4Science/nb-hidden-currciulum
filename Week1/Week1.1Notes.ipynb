{
 "cells": [
  {
   "cell_type": "markdown",
   "id": "e11d4404-6faa-4e9f-b8f9-1df5e41cde1b",
   "metadata": {},
   "source": [
    "## **Welcome to JupyterNotebooks!**"
   ]
  },
  {
   "cell_type": "markdown",
   "id": "2b7aa878-8ebe-4310-b653-63fb1ff9814a",
   "metadata": {},
   "source": [
    "**Learning Objective:** Students will understand the basics of Jupyter Notebooks, how to execute cells, the concept of a kernel, restarting the kernel, the order of execution, and common shortcuts.\n",
    "\n",
    "**Outcome:** Students should be able to run Jupyter notebooks and navigate the most common pitfalls. Learn about the rest of the course. \n"
   ]
  },
  {
   "cell_type": "markdown",
   "id": "4593163a-6879-4230-bf9f-8eb2bfbadfe7",
   "metadata": {},
   "source": [
    "### What is a Jupyer Notebook?"
   ]
  },
  {
   "cell_type": "markdown",
   "id": "492f657a-05f9-4efb-8347-2c6b54e4419c",
   "metadata": {},
   "source": [
    "JupyterNotebook is ...steal material from website."
   ]
  },
  {
   "cell_type": "markdown",
   "id": "10d80417-c380-4643-a9e9-ddc12fa20fa6",
   "metadata": {},
   "source": [
    "### Code cells"
   ]
  },
  {
   "cell_type": "markdown",
   "id": "36f9a191-1815-43c5-a824-bf895d20f0e4",
   "metadata": {},
   "source": [
    "- This is a code cell. It can be written in either code, markdown, raw\n",
    "- Here's how to excute this code cell\n",
    "- Here's how to execute this code cell using this keyboard short cut"
   ]
  },
  {
   "cell_type": "markdown",
   "id": "f2ea72b6-f0a7-4383-b841-051f4817697a",
   "metadata": {},
   "source": [
    "### Markdown"
   ]
  },
  {
   "cell_type": "markdown",
   "id": "98de6c36-d468-40ed-993d-a1761616c0b2",
   "metadata": {},
   "source": [
    "Markdown is like plain text but written in a code-like format. It's often used to insert plaintext in code files. It does not perform any actual code-like functions "
   ]
  },
  {
   "cell_type": "markdown",
   "id": "ef0776d5-18fb-4617-b1b5-2a38883a8d33",
   "metadata": {},
   "source": [
    "### Shortcuts "
   ]
  },
  {
   "cell_type": "markdown",
   "id": "db32fc37-30ff-4555-9b57-892974e790c2",
   "metadata": {},
   "source": [
    "- Insert table of keyboard shortcuts with description.\n",
    "- Execute cell, escape, above cell, below cell\n",
    "- Command + S to save notebook?\n",
    "\n",
    "| Action              | Shortcut      |\n",
    "|   :----:            |    :----:   |    \n",
    "| Execute a cell      | Shift + Enter  | \n",
    "| Save a cell         | Cmd + S        | \n",
    "| Enter a cell above  | esc + A        |\n",
    "| Enter a cell below  | esc + B        |"
   ]
  },
  {
   "cell_type": "markdown",
   "id": "db10dabc-d65e-427b-a08b-eb5786ca3100",
   "metadata": {},
   "source": [
    "### **ACTIVITY 1: TRY IT OUT (Markdown, Shortcuts, Code Cell?)**\n",
    "Insert a new markdown cell below this one using a keyboard shortcut and write an introduction about yourself in Markdown text! Bold your name, and give a few bullet points about yourself and interests. "
   ]
  },
  {
   "cell_type": "code",
   "execution_count": null,
   "id": "1dc9543a-3511-4750-b209-c65465f55aec",
   "metadata": {},
   "outputs": [],
   "source": []
  }
 ],
 "metadata": {
  "kernelspec": {
   "display_name": "Python 3 (ipykernel)",
   "language": "python",
   "name": "python3"
  },
  "language_info": {
   "codemirror_mode": {
    "name": "ipython",
    "version": 3
   },
   "file_extension": ".py",
   "mimetype": "text/x-python",
   "name": "python",
   "nbconvert_exporter": "python",
   "pygments_lexer": "ipython3",
   "version": "3.11.4"
  }
 },
 "nbformat": 4,
 "nbformat_minor": 5
}
