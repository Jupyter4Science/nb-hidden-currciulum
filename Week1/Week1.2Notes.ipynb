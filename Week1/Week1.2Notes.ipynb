{
 "cells": [
  {
   "cell_type": "markdown",
   "id": "4b42d7a4-7ae4-49b7-94cd-eb694724915c",
   "metadata": {},
   "source": [
    "### Notebook vs. notebook vs lab\n",
    "   "
   ]
  },
  {
   "cell_type": "markdown",
   "id": "8b73fb94-6354-400f-8431-447a8c2b310e",
   "metadata": {},
   "source": [
    "###  What is a kernel?\n",
    "   "
   ]
  },
  {
   "cell_type": "markdown",
   "id": "a54accdd-7f8b-4771-9700-ddec79f777d1",
   "metadata": {},
   "source": [
    "### Restarting the kernel\n"
   ]
  },
  {
   "cell_type": "markdown",
   "id": "f1293b9a-a623-4531-b587-0947f5c71b1d",
   "metadata": {},
   "source": [
    "### Order of execution"
   ]
  },
  {
   "cell_type": "markdown",
   "id": "6cb925c1-938b-4826-ad46-08e0328c4900",
   "metadata": {},
   "source": [
    "Why does order of execution matter? Let's take a look. \n",
    "\n",
    "Run the cell below. "
   ]
  },
  {
   "cell_type": "code",
   "execution_count": 13,
   "id": "927f984d-63ee-418c-acff-b7b6fb2ec90f",
   "metadata": {},
   "outputs": [
    {
     "name": "stdout",
     "output_type": "stream",
     "text": [
      "2\n"
     ]
    }
   ],
   "source": [
    "i = 2;\n",
    "print(i)"
   ]
  },
  {
   "cell_type": "markdown",
   "id": "b9952cb7-c0f2-427c-ac07-924b2493dd12",
   "metadata": {},
   "source": [
    "Notice the number to the left of the cell block. This is the index in which you have run your cell. Now run the same cell above again. The number to the left has increased! "
   ]
  },
  {
   "cell_type": "markdown",
   "id": "cffe625c-32d1-4824-b49c-d54842802b34",
   "metadata": {},
   "source": [
    "Now run this cell. "
   ]
  },
  {
   "cell_type": "code",
   "execution_count": 19,
   "id": "9b8cd694-c162-4914-85de-668921ec1bbb",
   "metadata": {},
   "outputs": [
    {
     "name": "stdout",
     "output_type": "stream",
     "text": [
      "14\n"
     ]
    }
   ],
   "source": [
    "i = 2 + i;\n",
    "print(i)"
   ]
  },
  {
   "cell_type": "markdown",
   "id": "eb0da8b3-afdd-4e02-a0cb-16c13c1edba5",
   "metadata": {},
   "source": [
    "Now run it again. "
   ]
  },
  {
   "cell_type": "code",
   "execution_count": null,
   "id": "14860b70-de48-4e0d-a2bb-ca1c3e3289d8",
   "metadata": {},
   "outputs": [],
   "source": []
  }
 ],
 "metadata": {
  "kernelspec": {
   "display_name": "Python 3 (ipykernel)",
   "language": "python",
   "name": "python3"
  },
  "language_info": {
   "codemirror_mode": {
    "name": "ipython",
    "version": 3
   },
   "file_extension": ".py",
   "mimetype": "text/x-python",
   "name": "python",
   "nbconvert_exporter": "python",
   "pygments_lexer": "ipython3",
   "version": "3.11.4"
  }
 },
 "nbformat": 4,
 "nbformat_minor": 5
}
