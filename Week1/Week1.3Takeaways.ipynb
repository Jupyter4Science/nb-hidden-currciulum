{
 "cells": [
  {
   "cell_type": "markdown",
   "id": "315c0e4e-29e0-4554-99d7-d555fa4115ca",
   "metadata": {},
   "source": [
    "### Common Issues\n",
    "\n",
    "| Issues              | Fix      |\n",
    "|   :----:            |    :----:   |    \n",
    "| Order of execution incorrect| Kernel -> \"Restart and Run up to Selected Cell\"  | \n",
    "| Save a cell         | Cmd + S        | \n",
    "| Enter a cell above  | esc + A        |\n",
    "| Enter a cell below  | esc + B        |"
   ]
  },
  {
   "cell_type": "markdown",
   "id": "a2403a61-c30a-40d2-953d-6481140867f3",
   "metadata": {},
   "source": [
    "### Good Practices"
   ]
  },
  {
   "cell_type": "markdown",
   "id": "51f6b977-02a0-4997-a44f-0459c8232bd5",
   "metadata": {},
   "source": [
    "### Summary"
   ]
  },
  {
   "cell_type": "markdown",
   "id": "4a89439a-b05e-48f5-9f10-29838a3354ff",
   "metadata": {},
   "source": [
    "### Homework"
   ]
  },
  {
   "cell_type": "code",
   "execution_count": null,
   "id": "65e8f1b5-da8f-47e9-8c76-6a3982b21725",
   "metadata": {},
   "outputs": [],
   "source": []
  }
 ],
 "metadata": {
  "kernelspec": {
   "display_name": "Python 3 (ipykernel)",
   "language": "python",
   "name": "python3"
  },
  "language_info": {
   "codemirror_mode": {
    "name": "ipython",
    "version": 3
   },
   "file_extension": ".py",
   "mimetype": "text/x-python",
   "name": "python",
   "nbconvert_exporter": "python",
   "pygments_lexer": "ipython3",
   "version": "3.11.4"
  }
 },
 "nbformat": 4,
 "nbformat_minor": 5
}
