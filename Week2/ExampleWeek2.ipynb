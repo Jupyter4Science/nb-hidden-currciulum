{
 "cells": [
  {
   "cell_type": "markdown",
   "id": "279674ad-d0e7-4c13-a41f-c4688af7c980",
   "metadata": {},
   "source": [
    "# Let's Try the Basics First!"
   ]
  },
  {
   "cell_type": "markdown",
   "id": "99546076-b889-424d-ac36-4cfcb780e253",
   "metadata": {},
   "source": [
    "## NOTES TO CONSIDER:\n",
    "\n",
    "1) Open notebook from Week2 folder\n",
    "2) Nice to have other individuals be able to use this exercise but they would have instructions (like setup.sh file) so that their entry point is in a deep folder\n",
    "3) Example for read-only in shared folder (week2)\n",
    "4) chmod access exercise. On .sh file which is created via JL interface"
   ]
  },
  {
   "cell_type": "markdown",
   "id": "01217ca6-0606-4b2a-80c6-1b9b76836c01",
   "metadata": {},
   "source": [
    "# Nelle’s Pipeline: A Typical Problem\n",
    "\n",
    "<!-- Original \n",
    "Nelle Nemo, a marine biologist, has just returned from a six-month survey of the North Pacific Gyre, where she has been sampling gelatinous marine life in the Great Pacific Garbage Patch. \n",
    "--> \n",
    "\n",
    "<!-- Our revisions --> \n",
    "\n",
    "Nelle Nemo, a marine biologist, did a six-month survey of the North Pacific Gyre, where she sampled gelatinous marine life in the Great Pacific Garbage Patch a year ago.  \n",
    "\n",
    "You are doing a similar research project with a different research question, but still want to access, use, and build upon Nelle's findings!"
   ]
  },
  {
   "cell_type": "markdown",
   "id": "50bad681-edd1-4f62-b829-dc7984d6bab1",
   "metadata": {},
   "source": [
    "Exercise 1! What directory are you in? Let's go find Nelle's directory to view her data! \n",
    "\n",
    "--- Delete later ---\n",
    "1. pwd\n",
    "2. cd ..\n",
    "3. ls\n",
    "4. cd shared\n",
    "5. cd HomeNelle\n",
    "6. cd shell-lesson-data"
   ]
  },
  {
   "cell_type": "markdown",
   "id": "57ff600b-d84f-4384-b7d7-16e39daac345",
   "metadata": {},
   "source": [
    "Exercise 2! Now we want to find the flag of ls to find the size of Nelle's dataset to see if you have enough storage to copy it over! \n",
    "\n",
    "--- Delete later ---\n",
    "1. pwd"
   ]
  },
  {
   "cell_type": "markdown",
   "id": "6ab5d176-ebb5-43c3-a847-34619ecd7bbe",
   "metadata": {},
   "source": [
    "-- Commands we want to include ----\n",
    "1) pwd\n",
    "2) cd\n",
    "3) ls\n",
    "5) ls --help\n",
    "6) ls - flags\n",
    "7) cat, less \n",
    "\n",
    "8) mv\n",
    "9) rm\n",
    "10) cd\n",
    "11) .sh file "
   ]
  },
  {
   "cell_type": "markdown",
   "id": "c04e13e7-c77c-45b1-a0a2-f582f7953314",
   "metadata": {},
   "source": [
    "She has 1520 samples that she’s run through an assay machine to measure the relative abundance of 300 proteins. She needs to run these 1520 files through an imaginary program called goostats.sh. In addition to this huge task, she has to write up results by the end of the month, so her paper can appear in a special issue of Aquatic Goo Letters.\n",
    "\n",
    "\n",
    "If Nelle chooses to run 'goostats.sh' by hand using a GUI, she’ll have to select and open a file 1520 times. If goostats.sh takes 30 seconds to run each file, the whole process will take more than 12 hours of Nelle’s attention. With the shell, Nelle can instead assign her computer this mundane task while she focuses her attention on writing her paper.\n",
    "\n",
    "The next few lessons will explore the ways Nelle can achieve this. More specifically, the lessons explain how she can use a command shell to run the goostats.sh program, using loops to automate the repetitive steps of entering file names, so that her computer can work while she writes her paper.\n",
    "\n",
    "As a bonus, once she has put a processing pipeline together, she will be able to use it again whenever she collects more data.\n",
    "\n",
    "In order to achieve her task, Nelle needs to know how to:\n",
    "\n",
    "- navigate to a file/directory\n",
    "- create a file/directory\n",
    "- check the length of a file\n",
    "- chain commands together\n",
    "- retrieve a set of files\n",
    "- iterate over files\n",
    "- run a shell script containing her pipeline"
   ]
  },
  {
   "cell_type": "code",
   "execution_count": 1,
   "id": "966ad602-0f05-4305-bdd5-ccbe11fede51",
   "metadata": {},
   "outputs": [
    {
     "data": {
      "text/plain": [
       "'/Users/_namitashah_/Desktop/gt/nb-hidden-currciulum'"
      ]
     },
     "execution_count": 1,
     "metadata": {},
     "output_type": "execute_result"
    }
   ],
   "source": [
    "pwd"
   ]
  },
  {
   "cell_type": "markdown",
   "id": "ecc26023-0946-494e-9dfe-a1698db87096",
   "metadata": {},
   "source": [
    "Step one: see where we are and what we already have\n",
    "We should still be in the shell-lesson-data directory on the Desktop, which we can check using:"
   ]
  },
  {
   "cell_type": "code",
   "execution_count": 2,
   "id": "ec0088c1-4301-48dc-b3c4-05c59e7f0edb",
   "metadata": {},
   "outputs": [
    {
     "data": {
      "text/plain": [
       "'/Users/_namitashah_/Desktop/gt/nb-hidden-currciulum'"
      ]
     },
     "execution_count": 2,
     "metadata": {},
     "output_type": "execute_result"
    }
   ],
   "source": [
    "pwd"
   ]
  },
  {
   "cell_type": "code",
   "execution_count": null,
   "id": "19650f31-c6e8-4cc1-8190-ac625be8643b",
   "metadata": {},
   "outputs": [],
   "source": []
  }
 ],
 "metadata": {
  "kernelspec": {
   "display_name": "Python 3 (ipykernel)",
   "language": "python",
   "name": "python3"
  },
  "language_info": {
   "codemirror_mode": {
    "name": "ipython",
    "version": 3
   },
   "file_extension": ".py",
   "mimetype": "text/x-python",
   "name": "python",
   "nbconvert_exporter": "python",
   "pygments_lexer": "ipython3",
   "version": "3.11.4"
  }
 },
 "nbformat": 4,
 "nbformat_minor": 5
}
