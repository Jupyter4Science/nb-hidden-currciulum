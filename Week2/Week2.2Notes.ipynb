{
 "cells": [
  {
   "cell_type": "markdown",
   "id": "c3b2a829-ecd7-488b-b631-27c6c121d6bf",
   "metadata": {},
   "source": [
    "# Install Things!"
   ]
  },
  {
   "cell_type": "markdown",
   "id": "72c02fbb-8246-4b34-a8a2-488a2cc8d5f2",
   "metadata": {},
   "source": [
    "**Learning Objective:** Students will understand how to navigate between files and directories.\n",
    "\n",
    "**Outcome:** Students should be able to run Jupyter notebooks and navigate the most common pitfalls. Learn about the rest of the course. \n"
   ]
  },
  {
   "cell_type": "markdown",
   "id": "d6660d54-9ee7-4a46-a0e7-76661d30d688",
   "metadata": {},
   "source": []
  }
 ],
 "metadata": {
  "kernelspec": {
   "display_name": "Python 3 (ipykernel)",
   "language": "python",
   "name": "python3"
  },
  "language_info": {
   "codemirror_mode": {
    "name": "ipython",
    "version": 3
   },
   "file_extension": ".py",
   "mimetype": "text/x-python",
   "name": "python",
   "nbconvert_exporter": "python",
   "pygments_lexer": "ipython3",
   "version": "3.11.4"
  }
 },
 "nbformat": 4,
 "nbformat_minor": 5
}
